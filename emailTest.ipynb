# email_sender.py
import smtplib
from email.mime.multipart import MIMEMultipart
from email.mime.text import MIMEText
# from config import 
SENDER_EMAIL = "rohannmahajan0707@gmail.com" 
RECEIVER_EMAIL = "rohannmahajan0707@gmail.com"
EMAIL_PASSWORD = "qcof scde ezte sxwn"

def send_email():
    email_body = f"""<html>
  <head>
    <style>
      body {{ font-family: Arial, sans-serif; line-height: 1.6; padding: 10px; }}
      h2 {{ color: #2E86C1; border-bottom: 1px solid #ccc; padding-bottom: 5px; }}
      p {{ margin: 10px 0; }}
    </style>
  </head>
  <body>
    Hello Bhai Log
  </body>
</html>"""
    message = MIMEMultipart('alternative')
    message['Subject'] = 'Defect RCA'
    message['From'] = SENDER_EMAIL
    message['To'] = RECEIVER_EMAIL
    message.attach(MIMEText(email_body, 'html'))
    try:
        server = smtplib.SMTP('smtp.gmail.com', 587)
        server.ehlo()
        server.starttls()
        server.login(SENDER_EMAIL, EMAIL_PASSWORD)
        server.sendmail(SENDER_EMAIL, RECEIVER_EMAIL, message.as_string())
        server.quit()
        print("Email sent successfully.")
    except Exception as e:
        print(f"Error in sending email: {e}")

  
send_email()






import smtplib
from email.mime.multipart import MIMEMultipart
from email.mime.text import MIMEText

SENDER_EMAIL = "rohannmahajan0707@gmail.com"
RECEIVER_EMAIL = "rohannmahajan0707@gmail.com"
# Ensure this is your app-specific password (without spaces)
EMAIL_PASSWORD = "qcofscdeeztesxwn"  

def send_email():
    email_body = """<html>
  <head>
    <style>
      body { font-family: Arial, sans-serif; line-height: 1.6; padding: 10px; }
      h2 { color: #2E86C1; border-bottom: 1px solid #ccc; padding-bottom: 5px; }
      p { margin: 10px 0; }
    </style>
  </head>
  <body>
    Hello Bhai Log
  </body>
</html>"""
    
    message = MIMEMultipart("alternative")
    message["Subject"] = "Defect RCA"
    message["From"] = SENDER_EMAIL
    message["To"] = RECEIVER_EMAIL
    message.attach(MIMEText(email_body, "html"))
    
    try:
        # Using a context manager and setting a timeout of 10 seconds
        with smtplib.SMTP("smtp.gmail.com", 587, timeout=10) as server:
            server.set_debuglevel(1)  # Enable debug output
            server.ehlo()
            server.starttls()
            server.ehlo()  # Re-identify after starting TLS
            server.login(SENDER_EMAIL, EMAIL_PASSWORD)
            server.sendmail(SENDER_EMAIL, RECEIVER_EMAIL, message.as_string())
        print("Email sent successfully.")
    except Exception as e:
        print(f"Error in sending email: {e}")

send_email()
